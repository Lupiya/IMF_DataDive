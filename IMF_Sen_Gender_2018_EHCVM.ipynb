{
 "cells": [
  {
   "cell_type": "markdown",
   "id": "30ba78b5-e79e-49ce-b426-0fa2686ffc1c",
   "metadata": {},
   "source": [
    "# Import the Necessary Libraries\n",
    "#You can combine multiple CSV files into one file for import into Jupyter Notebooks using Python's Pandas library. Here's a step-by-step guide on how to do this:\n"
   ]
  },
  {
   "cell_type": "code",
   "execution_count": 25,
   "id": "1ed3563c-f9d1-4776-bb2e-d1b12bc17605",
   "metadata": {},
   "outputs": [],
   "source": [
    "import pandas as pd\n",
    "import glob\n",
    "import numpy as np\n",
    "import matplotlib.pyplot as plt\n",
    "import seaborn as sns"
   ]
  },
  {
   "cell_type": "code",
   "execution_count": 6,
   "id": "b0232ece-ff2b-4d62-94cd-dbeb4f66fe8d",
   "metadata": {},
   "outputs": [],
   "source": [
    "# Specify the path to your CSV file\n",
    "file_path = file_path = \"C:\\\\Users\\\\eliud\\\\OneDrive\\\\Desktop\\\\pythonProject\\\\SEN_2018_EHCVM_v02_M_CSV\\\\ehcvm_individu_sen2018.csv\"\n",
    "\n"
   ]
  },
  {
   "cell_type": "code",
   "execution_count": 7,
   "id": "2f69c8e1-013a-40f8-bae4-09cb8b923e28",
   "metadata": {},
   "outputs": [],
   "source": [
    "# Read the CSV file into a Pandas DataFrame\n",
    "df = pd.read_csv(file_path)"
   ]
  },
  {
   "cell_type": "markdown",
   "id": "90b23639-91e2-4582-8650-44fbf353ff96",
   "metadata": {},
   "source": [
    "# Exploratory Data Analysis"
   ]
  },
  {
   "cell_type": "code",
   "execution_count": 8,
   "id": "94d0aa60-3d0e-422a-8fe5-aa533062288e",
   "metadata": {},
   "outputs": [
    {
     "name": "stdout",
     "output_type": "stream",
     "text": [
      "  country  year  vague  hhid  grappe  menage  numind  zae  domaine  region  \\\n",
      "0     SEN  2018      1  1001       1       1       1    1        1       1   \n",
      "1     SEN  2018      1  1001       1       1       2    1        1       1   \n",
      "2     SEN  2018      1  1002       1       2       1    1        1       1   \n",
      "3     SEN  2018      1  1002       1       2       2    1        1       1   \n",
      "4     SEN  2018      1  1003       1       3       1    1        1       1   \n",
      "\n",
      "   ...  sectins  csp  volhor    salaire  emploi_sec  sectins_sec  csp_sec  \\\n",
      "0  ...      3.0  4.0     NaN        0.0           0          NaN      NaN   \n",
      "1  ...      NaN  NaN     NaN        NaN           0          NaN      NaN   \n",
      "2  ...      3.0  1.0   600.0  9600000.0           0          NaN      NaN   \n",
      "3  ...      NaN  NaN     NaN        NaN           0          NaN      NaN   \n",
      "4  ...      1.0  7.0  2288.0        NaN           0          NaN      NaN   \n",
      "\n",
      "   volhor_sec  salaire_sec  bank  \n",
      "0         NaN          NaN     0  \n",
      "1         NaN          NaN     0  \n",
      "2         NaN          NaN     1  \n",
      "3         NaN          NaN     0  \n",
      "4         NaN          NaN     1  \n",
      "\n",
      "[5 rows x 51 columns]\n"
     ]
    }
   ],
   "source": [
    "# Display the first few rows of the dataset\n",
    "print(df.head())"
   ]
  },
  {
   "cell_type": "code",
   "execution_count": 9,
   "id": "5956e7ef-4fd3-45ed-977c-80d32f62aa05",
   "metadata": {},
   "outputs": [
    {
     "name": "stdout",
     "output_type": "stream",
     "text": [
      "<class 'pandas.core.frame.DataFrame'>\n",
      "RangeIndex: 66120 entries, 0 to 66119\n",
      "Data columns (total 51 columns):\n",
      " #   Column       Non-Null Count  Dtype  \n",
      "---  ------       --------------  -----  \n",
      " 0   country      66120 non-null  object \n",
      " 1   year         66120 non-null  int64  \n",
      " 2   vague        66120 non-null  int64  \n",
      " 3   hhid         66120 non-null  int64  \n",
      " 4   grappe       66120 non-null  int64  \n",
      " 5   menage       66120 non-null  int64  \n",
      " 6   numind       66120 non-null  int64  \n",
      " 7   zae          66120 non-null  int64  \n",
      " 8   domaine      66120 non-null  int64  \n",
      " 9   region       66120 non-null  int64  \n",
      " 10  departement  66120 non-null  int64  \n",
      " 11  milieu       66120 non-null  int64  \n",
      " 12  hhweight     66120 non-null  float64\n",
      " 13  resid        66120 non-null  int64  \n",
      " 14  sexe         66118 non-null  float64\n",
      " 15  age          66113 non-null  float64\n",
      " 16  lien         66116 non-null  float64\n",
      " 17  mstat        66115 non-null  float64\n",
      " 18  religion     66120 non-null  int64  \n",
      " 19  nation       66111 non-null  float64\n",
      " 20  agemar       23798 non-null  float64\n",
      " 21  mal30j       66120 non-null  int64  \n",
      " 22  aff30j       15371 non-null  float64\n",
      " 23  arrmal       66120 non-null  int64  \n",
      " 24  durarr       9227 non-null   float64\n",
      " 25  con30j       15371 non-null  float64\n",
      " 26  hos12m       66120 non-null  int64  \n",
      " 27  couvmal      66120 non-null  int64  \n",
      " 28  moustiq      66120 non-null  int64  \n",
      " 29  handit       55960 non-null  float64\n",
      " 30  handig       55960 non-null  float64\n",
      " 31  alfab        66120 non-null  int64  \n",
      " 32  scol         66120 non-null  int64  \n",
      " 33  educ_scol    16465 non-null  float64\n",
      " 34  educ_hi      66116 non-null  float64\n",
      " 35  diplome      66120 non-null  int64  \n",
      " 36  telpor       66120 non-null  int64  \n",
      " 37  internet     66120 non-null  int64  \n",
      " 38  activ7j      66120 non-null  int64  \n",
      " 39  activ12m     66120 non-null  int64  \n",
      " 40  branch       20571 non-null  float64\n",
      " 41  sectins      20569 non-null  float64\n",
      " 42  csp          20571 non-null  float64\n",
      " 43  volhor       17051 non-null  float64\n",
      " 44  salaire      5585 non-null   float64\n",
      " 45  emploi_sec   66120 non-null  int64  \n",
      " 46  sectins_sec  3005 non-null   float64\n",
      " 47  csp_sec      3005 non-null   float64\n",
      " 48  volhor_sec   2998 non-null   float64\n",
      " 49  salaire_sec  334 non-null    float64\n",
      " 50  bank         66120 non-null  int64  \n",
      "dtypes: float64(23), int64(27), object(1)\n",
      "memory usage: 25.7+ MB\n",
      "None\n"
     ]
    }
   ],
   "source": [
    "# Get a summary of the dataset\n",
    "print(df.info())"
   ]
  },
  {
   "cell_type": "code",
   "execution_count": 10,
   "id": "d0c82f7b-1a05-4c70-837b-a7bbf2ae9899",
   "metadata": {},
   "outputs": [
    {
     "name": "stdout",
     "output_type": "stream",
     "text": [
      "          year         vague           hhid        grappe        menage  \\\n",
      "count  66120.0  66120.000000   66120.000000  66120.000000  66120.000000   \n",
      "mean    2018.0      1.497701  313875.596189    313.869132      6.464307   \n",
      "std        0.0      0.499998  166875.698455    166.875672      3.438522   \n",
      "min     2018.0      1.000000    1001.000000      1.000000      1.000000   \n",
      "25%     2018.0      1.000000  175008.000000    175.000000      3.000000   \n",
      "50%     2018.0      1.000000  314012.000000    314.000000      6.000000   \n",
      "75%     2018.0      2.000000  460006.250000    460.000000      9.000000   \n",
      "max     2018.0      2.000000  598012.000000    598.000000     12.000000   \n",
      "\n",
      "             numind           zae       domaine        region   departement  \\\n",
      "count  66120.000000  66120.000000  66120.000000  66120.000000  66120.000000   \n",
      "mean       7.564534      3.529356      6.515563      7.094389     72.863733   \n",
      "std        6.402118      1.423716      3.330475      4.057822     40.449394   \n",
      "min        1.000000      1.000000      1.000000      1.000000     11.000000   \n",
      "25%        3.000000      3.000000      4.000000      4.000000     41.000000   \n",
      "50%        6.000000      4.000000      6.000000      7.000000     71.000000   \n",
      "75%       10.000000      5.000000     10.000000     11.000000    111.000000   \n",
      "max       58.000000      6.000000     12.000000     14.000000    143.000000   \n",
      "\n",
      "       ...       sectins           csp        volhor       salaire  \\\n",
      "count  ...  20569.000000  20571.000000  17051.000000  5.585000e+03   \n",
      "mean   ...      2.988137      7.307423   1817.283582  1.148035e+06   \n",
      "std    ...      0.500734      2.269451   1221.681229  2.068783e+06   \n",
      "min    ...      1.000000      1.000000      3.000000  0.000000e+00   \n",
      "25%    ...      3.000000      6.000000    810.000000  2.400000e+05   \n",
      "50%    ...      3.000000      8.000000   1600.000000  6.900000e+05   \n",
      "75%    ...      3.000000      9.000000   2592.000000  1.248000e+06   \n",
      "max    ...      6.000000     10.000000   5760.000000  5.400000e+07   \n",
      "\n",
      "         emploi_sec  sectins_sec      csp_sec   volhor_sec   salaire_sec  \\\n",
      "count  66120.000000  3005.000000  3005.000000  2998.000000  3.340000e+02   \n",
      "mean       0.045448     3.016972     8.237271   697.151268  6.470641e+05   \n",
      "std        0.208285     0.280369     1.546206   591.357483  8.598762e+05   \n",
      "min        0.000000     1.000000     1.000000     1.000000  0.000000e+00   \n",
      "25%        0.000000     3.000000     8.000000   312.000000  2.060000e+05   \n",
      "50%        0.000000     3.000000     9.000000   588.000000  4.800000e+05   \n",
      "75%        0.000000     3.000000     9.000000   899.000000  7.260000e+05   \n",
      "max        1.000000     6.000000    10.000000  5760.000000  7.200000e+06   \n",
      "\n",
      "               bank  \n",
      "count  66120.000000  \n",
      "mean       0.106897  \n",
      "std        0.308984  \n",
      "min        0.000000  \n",
      "25%        0.000000  \n",
      "50%        0.000000  \n",
      "75%        0.000000  \n",
      "max        1.000000  \n",
      "\n",
      "[8 rows x 50 columns]\n"
     ]
    }
   ],
   "source": [
    "# Descriptive statistics\n",
    "print(df.describe())"
   ]
  },
  {
   "cell_type": "markdown",
   "id": "beea1a01-10f5-431a-8aae-d187023cdebd",
   "metadata": {},
   "source": [
    "### Handle missing data:"
   ]
  },
  {
   "cell_type": "code",
   "execution_count": 11,
   "id": "f874beb8-1389-4e40-9b4b-c632d36c8bbd",
   "metadata": {},
   "outputs": [
    {
     "name": "stdout",
     "output_type": "stream",
     "text": [
      "country            0\n",
      "year               0\n",
      "vague              0\n",
      "hhid               0\n",
      "grappe             0\n",
      "menage             0\n",
      "numind             0\n",
      "zae                0\n",
      "domaine            0\n",
      "region             0\n",
      "departement        0\n",
      "milieu             0\n",
      "hhweight           0\n",
      "resid              0\n",
      "sexe               2\n",
      "age                7\n",
      "lien               4\n",
      "mstat              5\n",
      "religion           0\n",
      "nation             9\n",
      "agemar         42322\n",
      "mal30j             0\n",
      "aff30j         50749\n",
      "arrmal             0\n",
      "durarr         56893\n",
      "con30j         50749\n",
      "hos12m             0\n",
      "couvmal            0\n",
      "moustiq            0\n",
      "handit         10160\n",
      "handig         10160\n",
      "alfab              0\n",
      "scol               0\n",
      "educ_scol      49655\n",
      "educ_hi            4\n",
      "diplome            0\n",
      "telpor             0\n",
      "internet           0\n",
      "activ7j            0\n",
      "activ12m           0\n",
      "branch         45549\n",
      "sectins        45551\n",
      "csp            45549\n",
      "volhor         49069\n",
      "salaire        60535\n",
      "emploi_sec         0\n",
      "sectins_sec    63115\n",
      "csp_sec        63115\n",
      "volhor_sec     63122\n",
      "salaire_sec    65786\n",
      "bank               0\n",
      "dtype: int64\n"
     ]
    }
   ],
   "source": [
    "# Check for missing values\n",
    "print(df.isnull().sum())\n",
    "\n"
   ]
  },
  {
   "cell_type": "markdown",
   "id": "7e9474a8-42c4-46fd-bfdd-0bc883c0748f",
   "metadata": {},
   "source": [
    "### impute missing values for all the columns using the KNNImputer"
   ]
  },
  {
   "cell_type": "code",
   "execution_count": 16,
   "id": "9fff998d-f352-4eda-8d21-ee10eea3370f",
   "metadata": {},
   "outputs": [],
   "source": [
    "# Separate the numeric and categorical columns in your dataset\n",
    "\n",
    "numeric_columns = df.select_dtypes(include=['number']).columns\n",
    "categorical_columns = df.select_dtypes(exclude=['number']).columns\n",
    "\n"
   ]
  },
  {
   "cell_type": "code",
   "execution_count": 18,
   "id": "50348208-e184-4c20-88b7-d8b1b09ca720",
   "metadata": {},
   "outputs": [],
   "source": [
    "#Create a DataFrame containing only numeric columns. This will be used for imputation.\n",
    "numeric_df = df[numeric_columns]\n"
   ]
  },
  {
   "cell_type": "code",
   "execution_count": 19,
   "id": "b6d97d68-97b3-4bfd-ac0c-60037046ff47",
   "metadata": {},
   "outputs": [],
   "source": [
    "#Impute the missing values using KNNImputer for the numeric_df\n",
    "from sklearn.impute import KNNImputer\n",
    "\n",
    "imputer = KNNImputer(n_neighbors=5)\n",
    "numeric_df_imputed = pd.DataFrame(imputer.fit_transform(numeric_df), columns=numeric_columns)\n"
   ]
  },
  {
   "cell_type": "code",
   "execution_count": 20,
   "id": "379c7fa2-3cb5-42ae-b701-44bb0d221fe4",
   "metadata": {},
   "outputs": [],
   "source": [
    "#imputation for categorical columns\n",
    "for column in categorical_columns:\n",
    "    df[column].fillna(df[column].mode()[0], inplace=True)\n"
   ]
  },
  {
   "cell_type": "code",
   "execution_count": 21,
   "id": "61c6672b-1d46-484b-bdb1-8448ab4098f9",
   "metadata": {},
   "outputs": [],
   "source": [
    "#After imputing both numeric and categorical columns, you can combine them back into a single DataFrame\n",
    "df_imputed = pd.concat([numeric_df_imputed, df[categorical_columns]], axis=1)\n"
   ]
  },
  {
   "cell_type": "code",
   "execution_count": 22,
   "id": "082da4dd-2773-4f37-b794-d832da47b16d",
   "metadata": {},
   "outputs": [
    {
     "name": "stdout",
     "output_type": "stream",
     "text": [
      "year           0\n",
      "vague          0\n",
      "hhid           0\n",
      "grappe         0\n",
      "menage         0\n",
      "numind         0\n",
      "zae            0\n",
      "domaine        0\n",
      "region         0\n",
      "departement    0\n",
      "milieu         0\n",
      "hhweight       0\n",
      "resid          0\n",
      "sexe           0\n",
      "age            0\n",
      "lien           0\n",
      "mstat          0\n",
      "religion       0\n",
      "nation         0\n",
      "agemar         0\n",
      "mal30j         0\n",
      "aff30j         0\n",
      "arrmal         0\n",
      "durarr         0\n",
      "con30j         0\n",
      "hos12m         0\n",
      "couvmal        0\n",
      "moustiq        0\n",
      "handit         0\n",
      "handig         0\n",
      "alfab          0\n",
      "scol           0\n",
      "educ_scol      0\n",
      "educ_hi        0\n",
      "diplome        0\n",
      "telpor         0\n",
      "internet       0\n",
      "activ7j        0\n",
      "activ12m       0\n",
      "branch         0\n",
      "sectins        0\n",
      "csp            0\n",
      "volhor         0\n",
      "salaire        0\n",
      "emploi_sec     0\n",
      "sectins_sec    0\n",
      "csp_sec        0\n",
      "volhor_sec     0\n",
      "salaire_sec    0\n",
      "bank           0\n",
      "country        0\n",
      "dtype: int64\n"
     ]
    }
   ],
   "source": [
    "# Check for missing values\n",
    "print(df_imputed.isnull().sum())\n"
   ]
  },
  {
   "cell_type": "code",
   "execution_count": 23,
   "id": "8c542f71-eddf-40aa-9490-ea7816e92676",
   "metadata": {},
   "outputs": [
    {
     "name": "stdout",
     "output_type": "stream",
     "text": [
      "          year         vague           hhid        grappe        menage  \\\n",
      "count  66120.0  66120.000000   66120.000000  66120.000000  66120.000000   \n",
      "mean    2018.0      1.497701  313875.596189    313.869132      6.464307   \n",
      "std        0.0      0.499998  166875.698455    166.875672      3.438522   \n",
      "min     2018.0      1.000000    1001.000000      1.000000      1.000000   \n",
      "25%     2018.0      1.000000  175008.000000    175.000000      3.000000   \n",
      "50%     2018.0      1.000000  314012.000000    314.000000      6.000000   \n",
      "75%     2018.0      2.000000  460006.250000    460.000000      9.000000   \n",
      "max     2018.0      2.000000  598012.000000    598.000000     12.000000   \n",
      "\n",
      "             numind           zae       domaine        region   departement  \\\n",
      "count  66120.000000  66120.000000  66120.000000  66120.000000  66120.000000   \n",
      "mean       7.564534      3.529356      6.515563      7.094389     72.863733   \n",
      "std        6.402118      1.423716      3.330475      4.057822     40.449394   \n",
      "min        1.000000      1.000000      1.000000      1.000000     11.000000   \n",
      "25%        3.000000      3.000000      4.000000      4.000000     41.000000   \n",
      "50%        6.000000      4.000000      6.000000      7.000000     71.000000   \n",
      "75%       10.000000      5.000000     10.000000     11.000000    111.000000   \n",
      "max       58.000000      6.000000     12.000000     14.000000    143.000000   \n",
      "\n",
      "       ...       sectins           csp        volhor       salaire  \\\n",
      "count  ...  66120.000000  66120.000000  66120.000000  6.612000e+04   \n",
      "mean   ...      3.043938      7.136534   1801.856289  8.500721e+05   \n",
      "std    ...      0.360157      1.597522    886.162321  9.194689e+05   \n",
      "min    ...      1.000000      1.000000      3.000000  0.000000e+00   \n",
      "25%    ...      3.000000      6.200000   1149.600000  3.623000e+05   \n",
      "50%    ...      3.000000      7.400000   1764.000000  6.648000e+05   \n",
      "75%    ...      3.000000      8.200000   2340.000000  1.063200e+06   \n",
      "max    ...      6.000000     10.000000   5760.000000  5.400000e+07   \n",
      "\n",
      "         emploi_sec   sectins_sec       csp_sec    volhor_sec   salaire_sec  \\\n",
      "count  66120.000000  66120.000000  66120.000000  66120.000000  6.612000e+04   \n",
      "mean       0.045448      3.012335      8.170711    723.543371  6.135618e+05   \n",
      "std        0.208285      0.157397      0.902284    330.038304  4.013972e+05   \n",
      "min        0.000000      1.000000      1.000000      1.000000  0.000000e+00   \n",
      "25%        0.000000      3.000000      7.800000    485.000000  3.608000e+05   \n",
      "50%        0.000000      3.000000      8.400000    675.000000  5.168000e+05   \n",
      "75%        0.000000      3.000000      9.000000    902.400000  7.200000e+05   \n",
      "max        1.000000      6.000000     10.000000   5760.000000  7.200000e+06   \n",
      "\n",
      "               bank  \n",
      "count  66120.000000  \n",
      "mean       0.106897  \n",
      "std        0.308984  \n",
      "min        0.000000  \n",
      "25%        0.000000  \n",
      "50%        0.000000  \n",
      "75%        0.000000  \n",
      "max        1.000000  \n",
      "\n",
      "[8 rows x 50 columns]\n"
     ]
    }
   ],
   "source": [
    "# Descriptive statistics\n",
    "print(df_imputed.describe())"
   ]
  },
  {
   "cell_type": "code",
   "execution_count": 27,
   "id": "5d17fde4-1be7-4465-89e8-845dc56665ab",
   "metadata": {
    "scrolled": true
   },
   "outputs": [
    {
     "name": "stdout",
     "output_type": "stream",
     "text": [
      "<class 'pandas.core.frame.DataFrame'>\n",
      "RangeIndex: 66120 entries, 0 to 66119\n",
      "Data columns (total 51 columns):\n",
      " #   Column       Non-Null Count  Dtype  \n",
      "---  ------       --------------  -----  \n",
      " 0   year         66120 non-null  float64\n",
      " 1   vague        66120 non-null  float64\n",
      " 2   hhid         66120 non-null  float64\n",
      " 3   grappe       66120 non-null  float64\n",
      " 4   menage       66120 non-null  float64\n",
      " 5   numind       66120 non-null  float64\n",
      " 6   zae          66120 non-null  float64\n",
      " 7   domaine      66120 non-null  float64\n",
      " 8   region       66120 non-null  float64\n",
      " 9   departement  66120 non-null  float64\n",
      " 10  milieu       66120 non-null  float64\n",
      " 11  hhweight     66120 non-null  float64\n",
      " 12  resid        66120 non-null  float64\n",
      " 13  sexe         66120 non-null  float64\n",
      " 14  age          66120 non-null  float64\n",
      " 15  lien         66120 non-null  float64\n",
      " 16  mstat        66120 non-null  float64\n",
      " 17  religion     66120 non-null  float64\n",
      " 18  nation       66120 non-null  float64\n",
      " 19  agemar       66120 non-null  float64\n",
      " 20  mal30j       66120 non-null  float64\n",
      " 21  aff30j       66120 non-null  float64\n",
      " 22  arrmal       66120 non-null  float64\n",
      " 23  durarr       66120 non-null  float64\n",
      " 24  con30j       66120 non-null  float64\n",
      " 25  hos12m       66120 non-null  float64\n",
      " 26  couvmal      66120 non-null  float64\n",
      " 27  moustiq      66120 non-null  float64\n",
      " 28  handit       66120 non-null  float64\n",
      " 29  handig       66120 non-null  float64\n",
      " 30  alfab        66120 non-null  float64\n",
      " 31  scol         66120 non-null  float64\n",
      " 32  educ_scol    66120 non-null  float64\n",
      " 33  educ_hi      66120 non-null  float64\n",
      " 34  diplome      66120 non-null  float64\n",
      " 35  telpor       66120 non-null  float64\n",
      " 36  internet     66120 non-null  float64\n",
      " 37  activ7j      66120 non-null  float64\n",
      " 38  activ12m     66120 non-null  float64\n",
      " 39  branch       66120 non-null  float64\n",
      " 40  sectins      66120 non-null  float64\n",
      " 41  csp          66120 non-null  float64\n",
      " 42  volhor       66120 non-null  float64\n",
      " 43  salaire      66120 non-null  float64\n",
      " 44  emploi_sec   66120 non-null  float64\n",
      " 45  sectins_sec  66120 non-null  float64\n",
      " 46  csp_sec      66120 non-null  float64\n",
      " 47  volhor_sec   66120 non-null  float64\n",
      " 48  salaire_sec  66120 non-null  float64\n",
      " 49  bank         66120 non-null  float64\n",
      " 50  country      66120 non-null  object \n",
      "dtypes: float64(50), object(1)\n",
      "memory usage: 25.7+ MB\n",
      "None\n"
     ]
    }
   ],
   "source": [
    "# Get a summary of the dataset\n",
    "print(df_imputed.info())"
   ]
  },
  {
   "cell_type": "code",
   "execution_count": null,
   "id": "c9ff59cd-9b42-4d29-a257-1b33584ccba9",
   "metadata": {},
   "outputs": [],
   "source": [
    "column_data_types = df_imputed.dtypes\n",
    "print(\"Data types of all columns:\")\n",
    "print(column_data_types)\n"
   ]
  },
  {
   "cell_type": "code",
   "execution_count": 31,
   "id": "7c201af2-c64e-4ea8-b820-abb650f2c293",
   "metadata": {},
   "outputs": [
    {
     "data": {
      "image/png": "[encoded data removed]",
      "text/plain": [
       "<Figure size 640x480 with 1 Axes>"
      ]
     },
     "metadata": {},
     "output_type": "display_data"
    }
   ],
   "source": [
    "# Histogram of a numeric column\n",
    "plt.hist(df_imputed['bank'], bins=20)\n",
    "plt.xlabel('bank')\n",
    "plt.ylabel('Frequency')\n",
    "plt.title('Histogram of bank  Column')\n",
    "plt.show()\n",
    "\n",
    "\n"
   ]
  },
  {
   "cell_type": "code",
   "execution_count": 32,
   "id": "5c5c3215-93f0-4c77-9f1d-aa9f3df3d5e3",
   "metadata": {},
   "outputs": [
    {
     "data": {
      "image/png": "[encoded data removed]",
      "text/plain": [
       "<Figure size 640x480 with 1 Axes>"
      ]
     },
     "metadata": {},
     "output_type": "display_data"
    }
   ],
   "source": [
    "# Box plot for outliers\n",
    "sns.boxplot(x='sexe', y='bank', data=df_imputed) #where x is the categorical column and y is the numerical column\n",
    "plt.xlabel('sexe')\n",
    "plt.ylabel('bank')\n",
    "plt.title('Sexe Vs Bank Access')\n",
    "plt.show()\n"
   ]
  },
  {
   "cell_type": "code",
   "execution_count": null,
   "id": "8d9b4cb1-9e31-495c-ab11-b0ad2c593759",
   "metadata": {},
   "outputs": [],
   "source": [
    "# Pairplot for visualizing relationships (for smaller datasets)\n",
    "sns.pairplot(df_imputed)\n",
    "plt.show()\n"
   ]
  },
  {
   "cell_type": "code",
   "execution_count": null,
   "id": "b25c8128-3629-4957-aeab-0ff5523981eb",
   "metadata": {},
   "outputs": [],
   "source": [
    "# Correlation matrix\n",
    "correlation_matrix = df_imputed.corr()\n",
    "sns.heatmap(correlation_matrix, annot=True, cmap='coolwarm')\n",
    "plt.title('Correlation Matrix')\n",
    "plt.show()\n",
    "\n",
    "\n"
   ]
  },
  {
   "cell_type": "code",
   "execution_count": null,
   "id": "632fbd79-64f0-491d-aff4-2a3e7095de8d",
   "metadata": {},
   "outputs": [],
   "source": [
    "# Scatter plot for two variables\n",
    "sns.scatterplot(x='age', y='salaire_sec', data=df_imputed)\n",
    "plt.xlabel('Age')\n",
    "plt.ylabel('Salary_Sec')\n",
    "plt.title('Age Vs Income')\n",
    "plt.show()"
   ]
  },
  {
   "cell_type": "code",
   "execution_count": null,
   "id": "38c48729-8d10-4fec-b1ea-3876f9e84749",
   "metadata": {},
   "outputs": [],
   "source": [
    "# Count plot for a categorical variable\n",
    "sns.countplot(x='sexe', data=df)\n",
    "plt.xlabel('sexe')\n",
    "plt.ylabel('Count')\n",
    "plt.title('Count Plot')\n",
    "plt.show()\n",
    "\n",
    "# Cross-tabulation between two categorical variables\n",
    "cross_tab = pd.crosstab(df['sexe'], df['age'])\n",
    "print(cross_tab)\n"
   ]
  },
  {
   "cell_type": "code",
   "execution_count": null,
   "id": "45c334f4-74ca-468e-992e-f4b100dd4ca1",
   "metadata": {},
   "outputs": [],
   "source": []
  }
 ],
 "metadata": {
  "kernelspec": {
   "display_name": "Python 3 (ipykernel)",
   "language": "python",
   "name": "python3"
  },
  "language_info": {
   "codemirror_mode": {
    "name": "ipython",
    "version": 3
   },
   "file_extension": ".py",
   "mimetype": "text/x-python",
   "name": "python",
   "nbconvert_exporter": "python",
   "pygments_lexer": "ipython3",
   "version": "3.10.11"
  }
 },
 "nbformat": 4,
 "nbformat_minor": 5
}
